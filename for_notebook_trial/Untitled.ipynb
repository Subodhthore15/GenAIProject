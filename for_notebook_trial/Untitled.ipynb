{
 "cells": [
  {
   "cell_type": "code",
   "execution_count": 2,
   "id": "9b5d8398",
   "metadata": {},
   "outputs": [],
   "source": [
    "# !pip install SpeechRecognition\n"
   ]
  },
  {
   "cell_type": "code",
   "execution_count": 4,
   "id": "dd38148c",
   "metadata": {},
   "outputs": [],
   "source": [
    "# !pip install pydub"
   ]
  },
  {
   "cell_type": "code",
   "execution_count": 8,
   "id": "4294c780",
   "metadata": {},
   "outputs": [],
   "source": [
    "# !pip install moviepy"
   ]
  },
  {
   "cell_type": "code",
   "execution_count": 16,
   "id": "548955e8",
   "metadata": {},
   "outputs": [
    {
     "name": "stdout",
     "output_type": "stream",
     "text": [
      "MoviePy - Writing audio in geeksforgeeks.wav\n"
     ]
    },
    {
     "name": "stderr",
     "output_type": "stream",
     "text": [
      "                                                                                      \r"
     ]
    },
    {
     "name": "stdout",
     "output_type": "stream",
     "text": [
      "MoviePy - Done.\n",
      "\n",
      "The resultant text from video is: \n",
      "\n",
      "receiver in different to China who sent the Indian Army to the borders of receiver in different to China why are we today pressing China on this engagement and DS college why are we saying publicly that are ties are not normal we have no problem if there is political differences if there is even political criticism I have heard sometimes that my own understanding needs to be depend I think we should not directly or indirectly criticize of Japan's are standing sir in youngsters 13000 feet 13003 standing the defending our border they do not they do not deserve to have the word should not be used\n"
     ]
    }
   ],
   "source": [
    "\n",
    "import moviepy.editor as mp \n",
    "import speech_recognition as sr \n",
    "  \n",
    "# Load the video \n",
    "video = mp.VideoFileClip(\"jai_video.mp4\") \n",
    "  \n",
    "# Extract the audio from the video \n",
    "audio_file = video.audio \n",
    "audio_file.write_audiofile(\"geeksforgeeks.wav\") \n",
    "  \n",
    "# Initialize recognizer \n",
    "r = sr.Recognizer() \n",
    "  \n",
    "# Load the audio file \n",
    "with sr.AudioFile(\"geeksforgeeks.wav\") as source: \n",
    "    data = r.record(source) \n",
    "  \n",
    "# Convert speech to text \n",
    "text = r.recognize_google(data) \n",
    "  \n",
    "# Print the text \n",
    "print(\"\\nThe resultant text from video is: \\n\") \n",
    "print(text) "
   ]
  },
  {
   "cell_type": "code",
   "execution_count": null,
   "id": "17c4a1fd",
   "metadata": {},
   "outputs": [],
   "source": []
  },
  {
   "cell_type": "code",
   "execution_count": null,
   "id": "d58d564a",
   "metadata": {},
   "outputs": [],
   "source": []
  },
  {
   "cell_type": "code",
   "execution_count": 15,
   "id": "4130f0eb",
   "metadata": {},
   "outputs": [
    {
     "name": "stdout",
     "output_type": "stream",
     "text": [
      "MoviePy - Writing audio in extracted_audio.wav\n"
     ]
    },
    {
     "name": "stderr",
     "output_type": "stream",
     "text": [
      "                                                                                      \r"
     ]
    },
    {
     "name": "stdout",
     "output_type": "stream",
     "text": [
      "MoviePy - Done.\n",
      "Apple phone left is Emily Johnson from the school of Pharmacy and Medical Sciences Research and paper clips I came to Australia to study the deadliest animal in the world record virus\n"
     ]
    }
   ],
   "source": [
    "import moviepy.editor as mp\n",
    "import speech_recognition as sr\n",
    "\n",
    "# Function to extract audio from video\n",
    "def extract_audio(video_path, audio_path):\n",
    "    video = mp.VideoFileClip(video_path)\n",
    "    video.audio.write_audiofile(audio_path)\n",
    "\n",
    "# Function to transcribe audio into text\n",
    "def transcribe_audio(audio_path):\n",
    "    recognizer = sr.Recognizer()\n",
    "    with sr.AudioFile(audio_path) as source:\n",
    "        audio_data = recognizer.record(source)\n",
    "        text = recognizer.recognize_google(audio_data, language='en-US')\n",
    "        return text\n",
    "\n",
    "# Example usage\n",
    "video_path = 'three_minute.mp4'\n",
    "audio_path = 'extracted_audio.wav'\n",
    "\n",
    "# Extract audio from video\n",
    "extract_audio(video_path, audio_path)\n",
    "\n",
    "# Transcribe audio\n",
    "transcribed_text = transcribe_audio(audio_path)\n",
    "print(transcribed_text)\n"
   ]
  },
  {
   "cell_type": "code",
   "execution_count": 18,
   "id": "c7760015",
   "metadata": {},
   "outputs": [],
   "source": [
    "# pip install wisper\n"
   ]
  },
  {
   "cell_type": "code",
   "execution_count": 20,
   "id": "5201fe09",
   "metadata": {},
   "outputs": [
    {
     "name": "stdout",
     "output_type": "stream",
     "text": [
      "MoviePy - Writing audio in extracted_audio.wav\n"
     ]
    },
    {
     "name": "stderr",
     "output_type": "stream",
     "text": [
      "                                                                                      \r"
     ]
    },
    {
     "name": "stdout",
     "output_type": "stream",
     "text": [
      "MoviePy - Done.\n",
      "Apple phone left is Emily Johnson from the school of Pharmacy and Medical Sciences Research and paper clips I can do Australia to study the deadliest animal in the world record virus\n"
     ]
    }
   ],
   "source": [
    "import moviepy.editor as mp\n",
    "import wisper\n",
    "import os\n",
    "\n",
    "# Function to extract audio from video\n",
    "def extract_audio(video_path, audio_path):\n",
    "    video = mp.VideoFileClip(video_path)\n",
    "    video.audio.write_audiofile(audio_path)\n",
    "\n",
    "# Function to transcribe audio into text using wisper\n",
    "def transcribe_audio(audio_path):\n",
    "    transcriber = wisper.Transcriber(audio_path)\n",
    "    text = transcriber.transcribe()\n",
    "    return text\n",
    "\n",
    "# Example usage\n",
    "video_path = 'three_minute.mp4'\n",
    "audio_path = 'extracted_audio.wav'\n",
    "\n",
    "# Extract audio from video\n",
    "extract_audio(video_path, audio_path)\n",
    "\n",
    "# Transcribe audio\n",
    "transcribed_text = transcribe_audio(audio_path)\n",
    "print(transcribed_text)\n",
    "\n",
    "# Cleanup: Remove the temporary audio file\n",
    "os.remove(audio_path)\n"
   ]
  },
  {
   "cell_type": "code",
   "execution_count": 23,
   "id": "5515e9e3",
   "metadata": {},
   "outputs": [
    {
     "name": "stdout",
     "output_type": "stream",
     "text": [
      "Collecting whisper\n",
      "  Downloading whisper-1.1.10.tar.gz (42 kB)\n",
      "     ---------------------------------------- 0.0/42.8 kB ? eta -:--:--\n",
      "     ---------------------------------------- 42.8/42.8 kB 2.0 MB/s eta 0:00:00\n",
      "  Preparing metadata (setup.py): started\n",
      "  Preparing metadata (setup.py): finished with status 'done'\n",
      "Requirement already satisfied: six in c:\\users\\govind\\appdata\\roaming\\python\\python39\\site-packages (from whisper) (1.16.0)\n",
      "Building wheels for collected packages: whisper\n",
      "  Building wheel for whisper (setup.py): started\n",
      "  Building wheel for whisper (setup.py): finished with status 'done'\n",
      "  Created wheel for whisper: filename=whisper-1.1.10-py3-none-any.whl size=41137 sha256=a3b4818ece68a3c8da3da03b73e648f246ed41ee489e4e6d176b8f48d95d46f0\n",
      "  Stored in directory: c:\\users\\govind\\appdata\\local\\pip\\cache\\wheels\\f1\\01\\8c\\1b449563518aa0f8813d044f7a910884e3b8313711becb66d6\n",
      "Successfully built whisper\n",
      "Installing collected packages: whisper\n",
      "Successfully installed whisper-1.1.10\n",
      "Note: you may need to restart the kernel to use updated packages.\n"
     ]
    },
    {
     "name": "stderr",
     "output_type": "stream",
     "text": [
      "DEPRECATION: pyodbc 4.0.0-unsupported has a non-standard version number. pip 23.3 will enforce this behaviour change. A possible replacement is to upgrade to a newer version of pyodbc or contact the author to suggest that they release a version with a conforming version number. Discussion can be found at https://github.com/pypa/pip/issues/12063\n"
     ]
    }
   ],
   "source": [
    "# pip install whisper"
   ]
  },
  {
   "cell_type": "code",
   "execution_count": 3,
   "id": "2a821745",
   "metadata": {},
   "outputs": [
    {
     "ename": "TypeError",
     "evalue": "argument of type 'NoneType' is not iterable",
     "output_type": "error",
     "traceback": [
      "\u001b[1;31m---------------------------------------------------------------------------\u001b[0m",
      "\u001b[1;31mTypeError\u001b[0m                                 Traceback (most recent call last)",
      "Cell \u001b[1;32mIn[3], line 1\u001b[0m\n\u001b[1;32m----> 1\u001b[0m \u001b[38;5;28;01mimport\u001b[39;00m \u001b[38;5;21;01mwhisper\u001b[39;00m\n",
      "File \u001b[1;32m~\\anaconda3\\lib\\site-packages\\whisper.py:69\u001b[0m\n\u001b[0;32m     67\u001b[0m \u001b[38;5;28;01mif\u001b[39;00m CAN_FALLOCATE:\n\u001b[0;32m     68\u001b[0m   libc_name \u001b[38;5;241m=\u001b[39m ctypes\u001b[38;5;241m.\u001b[39mutil\u001b[38;5;241m.\u001b[39mfind_library(\u001b[38;5;124m'\u001b[39m\u001b[38;5;124mc\u001b[39m\u001b[38;5;124m'\u001b[39m)\n\u001b[1;32m---> 69\u001b[0m   libc \u001b[38;5;241m=\u001b[39m \u001b[43mctypes\u001b[49m\u001b[38;5;241;43m.\u001b[39;49m\u001b[43mCDLL\u001b[49m\u001b[43m(\u001b[49m\u001b[43mlibc_name\u001b[49m\u001b[43m)\u001b[49m\n\u001b[0;32m     70\u001b[0m   c_off64_t \u001b[38;5;241m=\u001b[39m ctypes\u001b[38;5;241m.\u001b[39mc_int64\n\u001b[0;32m     71\u001b[0m   c_off_t \u001b[38;5;241m=\u001b[39m ctypes\u001b[38;5;241m.\u001b[39mc_int\n",
      "File \u001b[1;32m~\\anaconda3\\lib\\ctypes\\__init__.py:364\u001b[0m, in \u001b[0;36mCDLL.__init__\u001b[1;34m(self, name, mode, handle, use_errno, use_last_error, winmode)\u001b[0m\n\u001b[0;32m    362\u001b[0m \u001b[38;5;28;01mimport\u001b[39;00m \u001b[38;5;21;01mnt\u001b[39;00m\n\u001b[0;32m    363\u001b[0m mode \u001b[38;5;241m=\u001b[39m nt\u001b[38;5;241m.\u001b[39m_LOAD_LIBRARY_SEARCH_DEFAULT_DIRS\n\u001b[1;32m--> 364\u001b[0m \u001b[38;5;28;01mif\u001b[39;00m \u001b[38;5;124;43m'\u001b[39;49m\u001b[38;5;124;43m/\u001b[39;49m\u001b[38;5;124;43m'\u001b[39;49m\u001b[43m \u001b[49m\u001b[38;5;129;43;01min\u001b[39;49;00m\u001b[43m \u001b[49m\u001b[43mname\u001b[49m \u001b[38;5;129;01mor\u001b[39;00m \u001b[38;5;124m'\u001b[39m\u001b[38;5;130;01m\\\\\u001b[39;00m\u001b[38;5;124m'\u001b[39m \u001b[38;5;129;01min\u001b[39;00m name:\n\u001b[0;32m    365\u001b[0m     \u001b[38;5;28mself\u001b[39m\u001b[38;5;241m.\u001b[39m_name \u001b[38;5;241m=\u001b[39m nt\u001b[38;5;241m.\u001b[39m_getfullpathname(\u001b[38;5;28mself\u001b[39m\u001b[38;5;241m.\u001b[39m_name)\n\u001b[0;32m    366\u001b[0m     mode \u001b[38;5;241m|\u001b[39m\u001b[38;5;241m=\u001b[39m nt\u001b[38;5;241m.\u001b[39m_LOAD_LIBRARY_SEARCH_DLL_LOAD_DIR\n",
      "\u001b[1;31mTypeError\u001b[0m: argument of type 'NoneType' is not iterable"
     ]
    }
   ],
   "source": [
    "import whisper"
   ]
  },
  {
   "cell_type": "code",
   "execution_count": 2,
   "id": "4a3a0fcb",
   "metadata": {},
   "outputs": [
    {
     "ename": "NameError",
     "evalue": "name 'whisper' is not defined",
     "output_type": "error",
     "traceback": [
      "\u001b[1;31m---------------------------------------------------------------------------\u001b[0m",
      "\u001b[1;31mNameError\u001b[0m                                 Traceback (most recent call last)",
      "Cell \u001b[1;32mIn[2], line 1\u001b[0m\n\u001b[1;32m----> 1\u001b[0m \u001b[43mwhisper\u001b[49m\u001b[38;5;241m.\u001b[39mload_model(\u001b[38;5;124m'\u001b[39m\u001b[38;5;124mbase.en\u001b[39m\u001b[38;5;124m'\u001b[39m)\n",
      "\u001b[1;31mNameError\u001b[0m: name 'whisper' is not defined"
     ]
    }
   ],
   "source": [
    "whisper.load_model('base.en')"
   ]
  },
  {
   "cell_type": "code",
   "execution_count": null,
   "id": "c134168d",
   "metadata": {},
   "outputs": [],
   "source": []
  }
 ],
 "metadata": {
  "kernelspec": {
   "display_name": "Python 3 (ipykernel)",
   "language": "python",
   "name": "python3"
  },
  "language_info": {
   "codemirror_mode": {
    "name": "ipython",
    "version": 3
   },
   "file_extension": ".py",
   "mimetype": "text/x-python",
   "name": "python",
   "nbconvert_exporter": "python",
   "pygments_lexer": "ipython3",
   "version": "3.9.7"
  }
 },
 "nbformat": 4,
 "nbformat_minor": 5
}
